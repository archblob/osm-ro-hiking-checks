{
 "cells": [
  {
   "cell_type": "markdown",
   "metadata": {},
   "source": [
    "```sql\n",
    "WITH bounding_area AS (\n",
    "    SELECT geometry FROM `bigquery-public-data.geo_openstreetmap.planet_features`\n",
    "    WHERE feature_type=\"multipolygons\"\n",
    "    AND ('wikidata', 'Q218') IN (SELECT (key, value) FROM unnest(all_tags))\n",
    "),\n",
    "relations_wo_wikidata as (\n",
    "    SELECT planet_relations.id, (SELECT value FROM unnest(planet_relations.all_tags) where key = 'name') as name, m.id as member_id\n",
    "    FROM `bigquery-public-data.geo_openstreetmap.planet_relations` as planet_relations,\n",
    "      planet_relations.members as m,\n",
    "      bounding_area\n",
    "    WHERE 'wikidata' NOT IN (SELECT key FROM UNNEST(all_tags))\n",
    "    AND ST_DWithin(bounding_area.geometry, planet_relations.geometry, 0)\n",
    "),\n",
    "bounding_area_features AS (\n",
    "    SELECT * FROM `bigquery-public-data.geo_openstreetmap.planet_features` as planet_features, bounding_area\n",
    "    WHERE ST_DWithin(bounding_area.geometry, planet_features.geometry, 0)\n",
    ")\n",
    "SELECT relations_wo_wikidata.id as id, relations_wo_wikidata.name as name,\n",
    "    ARRAY_AGG (STRUCT (planet_features.osm_id as id, (SELECT value FROM unnest(planet_features.all_tags) where key = 'name') as name, (SELECT value FROM unnest(planet_features.all_tags) where key = 'wikidata') as wikidata_id)) as members\n",
    "FROM relations_wo_wikidata JOIN bounding_area_features as planet_features ON relations_wo_wikidata.member_id = planet_features.osm_id\n",
    "WHERE 'wikidata' IN (SELECT key FROM UNNEST(all_tags))\n",
    "GROUP BY id, name\n",
    "```"
   ]
  }
 ],
 "metadata": {
  "interpreter": {
   "hash": "b9d3cb2a304a94820b0542417c4a2a699f2a16d3fd3a6ccde39c89cd26654ad0"
  },
  "kernelspec": {
   "display_name": "Python 3.9.7 64-bit ('osm-ro-hiking-checks': conda)",
   "name": "python3"
  },
  "language_info": {
   "codemirror_mode": {
    "name": "ipython",
    "version": 3
   },
   "file_extension": ".py",
   "mimetype": "text/x-python",
   "name": "python",
   "nbconvert_exporter": "python",
   "pygments_lexer": "ipython3",
   "version": "3.9.7"
  },
  "orig_nbformat": 4
 },
 "nbformat": 4,
 "nbformat_minor": 2
}
